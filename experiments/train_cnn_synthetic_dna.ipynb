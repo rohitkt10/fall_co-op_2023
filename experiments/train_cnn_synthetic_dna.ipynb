{
 "cells": [
  {
   "cell_type": "code",
   "execution_count": 2,
   "metadata": {
    "tags": []
   },
   "outputs": [],
   "source": [
    "import sys\n",
    "sys.path.insert(0, '..')"
   ]
  },
  {
   "cell_type": "code",
   "execution_count": 3,
   "metadata": {
    "id": "UHpUWNi1kIBt",
    "tags": []
   },
   "outputs": [],
   "source": [
    "import os\n",
    "import subprocess\n",
    "import numpy as np\n",
    "import os\n",
    "import subprocess\n",
    "import numpy as np\n",
    "import torch\n",
    "import torch.nn as nn\n",
    "from torch.utils.data import DataLoader\n",
    "import torch.optim as optim\n",
    "import matplotlib.pyplot as plt\n",
    "from sklearn.metrics import roc_auc_score, roc_curve\n",
    "\n",
    "from src.utils.synthetic_seqdata import *\n",
    "from src.utils.datasets import DNASequenceDataset\n",
    "from src.models.deepbind_cnn import BasicCNN\n",
    "from src.trainer import Trainer"
   ]
  },
  {
   "cell_type": "code",
   "execution_count": 6,
   "metadata": {
    "id": "jdLEtanChQDa",
    "tags": []
   },
   "outputs": [
    {
     "name": "stderr",
     "output_type": "stream",
     "text": [
      "--2023-07-26 09:33:57--  https://www.dropbox.com/s/drnyowfdv1lbjz6/train_sequences.txt\n",
      "Resolving www.dropbox.com (www.dropbox.com)... 162.125.4.18, 2620:100:6019:18::a27d:412\n",
      "Connecting to www.dropbox.com (www.dropbox.com)|162.125.4.18|:443... connected.\n",
      "HTTP request sent, awaiting response... 302 Found\n",
      "Location: /s/raw/drnyowfdv1lbjz6/train_sequences.txt [following]\n",
      "--2023-07-26 09:33:57--  https://www.dropbox.com/s/raw/drnyowfdv1lbjz6/train_sequences.txt\n",
      "Reusing existing connection to www.dropbox.com:443.\n",
      "HTTP request sent, awaiting response... 302 Found\n",
      "Location: https://ucb40e74a0319073ea4d53404482.dl.dropboxusercontent.com/cd/0/inline/CAmCSM68D8Zanst7J4xdSiy-BTp95s8unNQ_W0PaIzJzKl5MVMfWDFDo1kqfVQQ05eJhuzzNSirVLtu5QvLOvbjTTjQqX26i9QLV2ZsFZnanRbiF9SrVbo6Mpp1O6ANz5sM/file# [following]\n",
      "--2023-07-26 09:33:57--  https://ucb40e74a0319073ea4d53404482.dl.dropboxusercontent.com/cd/0/inline/CAmCSM68D8Zanst7J4xdSiy-BTp95s8unNQ_W0PaIzJzKl5MVMfWDFDo1kqfVQQ05eJhuzzNSirVLtu5QvLOvbjTTjQqX26i9QLV2ZsFZnanRbiF9SrVbo6Mpp1O6ANz5sM/file\n",
      "Resolving ucb40e74a0319073ea4d53404482.dl.dropboxusercontent.com (ucb40e74a0319073ea4d53404482.dl.dropboxusercontent.com)... 162.125.4.15, 2620:100:6019:15::a27d:40f\n",
      "Connecting to ucb40e74a0319073ea4d53404482.dl.dropboxusercontent.com (ucb40e74a0319073ea4d53404482.dl.dropboxusercontent.com)|162.125.4.15|:443... connected.\n",
      "HTTP request sent, awaiting response... 200 OK\n",
      "Length: 2814000 (2.7M) [text/plain]\n",
      "Saving to: ‘./data/train_sequences.txt’\n",
      "\n",
      "     0K .......... .......... .......... .......... ..........  1% 3.27M 1s\n",
      "    50K .......... .......... .......... .......... ..........  3% 5.75M 1s\n",
      "   100K .......... .......... .......... .......... ..........  5% 5.72M 1s\n",
      "   150K .......... .......... .......... .......... ..........  7% 11.9M 0s\n",
      "   200K .......... .......... .......... .......... ..........  9%  161M 0s\n",
      "   250K .......... .......... .......... .......... .......... 10%  176M 0s\n",
      "   300K .......... .......... .......... .......... .......... 12%  183M 0s\n",
      "   350K .......... .......... .......... .......... .......... 14%  189M 0s\n",
      "   400K .......... .......... .......... .......... .......... 16%  155M 0s\n",
      "   450K .......... .......... .......... .......... .......... 18%  183M 0s\n",
      "   500K .......... .......... .......... .......... .......... 20%  187M 0s\n",
      "   550K .......... .......... .......... .......... .......... 21%  188M 0s\n",
      "   600K .......... .......... .......... .......... .......... 23%  170M 0s\n",
      "   650K .......... .......... .......... .......... .......... 25%  181M 0s\n",
      "   700K .......... .......... .......... .......... .......... 27%  186M 0s\n",
      "   750K .......... .......... .......... .......... .......... 29%  191M 0s\n",
      "   800K .......... .......... .......... .......... .......... 30% 4.69M 0s\n",
      "   850K .......... .......... .......... .......... .......... 32% 10.1M 0s\n",
      "   900K .......... .......... .......... .......... .......... 34% 26.5M 0s\n",
      "   950K .......... .......... .......... .......... .......... 36%  196M 0s\n",
      "  1000K .......... .......... .......... .......... .......... 38%  180M 0s\n",
      "  1050K .......... .......... .......... .......... .......... 40%  200M 0s\n",
      "  1100K .......... .......... .......... .......... .......... 41%  207M 0s\n",
      "  1150K .......... .......... .......... .......... .......... 43% 17.1M 0s\n",
      "  1200K .......... .......... .......... .......... .......... 45% 30.9M 0s\n",
      "  1250K .......... .......... .......... .......... .......... 47%  190M 0s\n",
      "  1300K .......... .......... .......... .......... .......... 49%  207M 0s\n",
      "  1350K .......... .......... .......... .......... .......... 50%  197M 0s\n",
      "  1400K .......... .......... .......... .......... .......... 52%  178M 0s\n",
      "  1450K .......... .......... .......... .......... .......... 54%  206M 0s\n",
      "  1500K .......... .......... .......... .......... .......... 56%  196M 0s\n",
      "  1550K .......... .......... .......... .......... .......... 58%  203M 0s\n",
      "  1600K .......... .......... .......... .......... .......... 60%  164M 0s\n",
      "  1650K .......... .......... .......... .......... .......... 61%  204M 0s\n",
      "  1700K .......... .......... .......... .......... .......... 63%  205M 0s\n",
      "  1750K .......... .......... .......... .......... .......... 65%  199M 0s\n",
      "  1800K .......... .......... .......... .......... .......... 67%  183M 0s\n",
      "  1850K .......... .......... .......... .......... .......... 69%  200M 0s\n",
      "  1900K .......... .......... .......... .......... .......... 70%  201M 0s\n",
      "  1950K .......... .......... .......... .......... .......... 72% 7.75M 0s\n",
      "  2000K .......... .......... .......... .......... .......... 74%  160M 0s\n",
      "  2050K .......... .......... .......... .......... .......... 76%  216M 0s\n",
      "  2100K .......... .......... .......... .......... .......... 78%  213M 0s\n",
      "  2150K .......... .......... .......... .......... .......... 80%  202M 0s\n",
      "  2200K .......... .......... .......... .......... .......... 81%  196M 0s\n",
      "  2250K .......... .......... .......... .......... .......... 83%  211M 0s\n",
      "  2300K .......... .......... .......... .......... .......... 85% 7.60M 0s\n",
      "  2350K .......... .......... .......... .......... .......... 87% 11.7M 0s\n",
      "  2400K .......... .......... .......... .......... .......... 89% 10.5M 0s\n",
      "  2450K .......... .......... .......... .......... .......... 90% 12.0M 0s\n",
      "  2500K .......... .......... .......... .......... .......... 92%  207M 0s\n",
      "  2550K .......... .......... .......... .......... .......... 94%  228M 0s\n",
      "  2600K .......... .......... .......... .......... .......... 96%  212M 0s\n",
      "  2650K .......... .......... .......... .......... .......... 98%  241M 0s\n",
      "  2700K .......... .......... .......... .......... ........  100%  227M=0.09s\n",
      "\n",
      "2023-07-26 09:33:58 (28.7 MB/s) - ‘./data/train_sequences.txt’ saved [2814000/2814000]\n",
      "\n",
      "--2023-07-26 09:33:58--  https://www.dropbox.com/s/1voerf29dhakmqi/valid_sequences.txt\n",
      "Resolving www.dropbox.com (www.dropbox.com)... 162.125.4.18, 2620:100:6019:18::a27d:412\n",
      "Connecting to www.dropbox.com (www.dropbox.com)|162.125.4.18|:443... connected.\n",
      "HTTP request sent, awaiting response... 302 Found\n",
      "Location: /s/raw/1voerf29dhakmqi/valid_sequences.txt [following]\n",
      "--2023-07-26 09:33:58--  https://www.dropbox.com/s/raw/1voerf29dhakmqi/valid_sequences.txt\n",
      "Reusing existing connection to www.dropbox.com:443.\n",
      "HTTP request sent, awaiting response... 302 Found\n",
      "Location: https://uc404fb0f2cbb87c3a8cda3bec97.dl.dropboxusercontent.com/cd/0/inline/CAnqSNI0OckQ8VyJwOaB-MX-cJQQRJ0IP586CnHfE6s4aDVIvd9V1R6NwdwrM_9DMRfVMcD670bewBZm-jyFHr7p9Dk1rQe03YR13GoBwXN2hE9QSXRnYXzGD2uuey4CvyE/file# [following]\n",
      "--2023-07-26 09:33:58--  https://uc404fb0f2cbb87c3a8cda3bec97.dl.dropboxusercontent.com/cd/0/inline/CAnqSNI0OckQ8VyJwOaB-MX-cJQQRJ0IP586CnHfE6s4aDVIvd9V1R6NwdwrM_9DMRfVMcD670bewBZm-jyFHr7p9Dk1rQe03YR13GoBwXN2hE9QSXRnYXzGD2uuey4CvyE/file\n",
      "Resolving uc404fb0f2cbb87c3a8cda3bec97.dl.dropboxusercontent.com (uc404fb0f2cbb87c3a8cda3bec97.dl.dropboxusercontent.com)... 162.125.4.15, 2620:100:6019:15::a27d:40f\n",
      "Connecting to uc404fb0f2cbb87c3a8cda3bec97.dl.dropboxusercontent.com (uc404fb0f2cbb87c3a8cda3bec97.dl.dropboxusercontent.com)|162.125.4.15|:443... connected.\n",
      "HTTP request sent, awaiting response... 200 OK\n",
      "Length: 402000 (393K) [text/plain]\n",
      "Saving to: ‘./data/valid_sequences.txt’\n",
      "\n",
      "     0K .......... .......... .......... .......... .......... 12% 3.41M 0s\n",
      "    50K .......... .......... .......... .......... .......... 25% 5.46M 0s\n",
      "   100K .......... .......... .......... .......... .......... 38% 5.30M 0s\n",
      "   150K .......... .......... .......... .......... .......... 50% 11.2M 0s\n",
      "   200K .......... .......... .......... .......... .......... 63%  180M 0s\n",
      "   250K .......... .......... .......... .......... .......... 76%  182M 0s\n",
      "   300K .......... .......... .......... .......... .......... 89%  173M 0s\n",
      "   350K .......... .......... .......... .......... ..        100%  165M=0.04s\n",
      "\n",
      "2023-07-26 09:33:59 (10.1 MB/s) - ‘./data/valid_sequences.txt’ saved [402000/402000]\n",
      "\n",
      "--2023-07-26 09:33:59--  https://www.dropbox.com/s/sq8wpx6ogsi7l2w/test_sequences.txt\n",
      "Resolving www.dropbox.com (www.dropbox.com)... 162.125.4.18, 2620:100:6019:18::a27d:412\n",
      "Connecting to www.dropbox.com (www.dropbox.com)|162.125.4.18|:443... connected.\n",
      "HTTP request sent, awaiting response... 302 Found\n",
      "Location: /s/raw/sq8wpx6ogsi7l2w/test_sequences.txt [following]\n",
      "--2023-07-26 09:33:59--  https://www.dropbox.com/s/raw/sq8wpx6ogsi7l2w/test_sequences.txt\n",
      "Reusing existing connection to www.dropbox.com:443.\n",
      "HTTP request sent, awaiting response... 302 Found\n",
      "Location: https://uc8d9bc802dd63c580c700bfdeb4.dl.dropboxusercontent.com/cd/0/inline/CAlRgQBKrCCIYBd809jTacVtwrDJqaKmwv6jjNLr-YwAw0SppCU2PJTqzCcpfr6x1S3333X5XnzDiztQmvAwvhUJ-X2w8yLRhSLQ9N-toR3dNloUdCmDBmfUZqLz1_RTNF8/file# [following]\n",
      "--2023-07-26 09:33:59--  https://uc8d9bc802dd63c580c700bfdeb4.dl.dropboxusercontent.com/cd/0/inline/CAlRgQBKrCCIYBd809jTacVtwrDJqaKmwv6jjNLr-YwAw0SppCU2PJTqzCcpfr6x1S3333X5XnzDiztQmvAwvhUJ-X2w8yLRhSLQ9N-toR3dNloUdCmDBmfUZqLz1_RTNF8/file\n",
      "Resolving uc8d9bc802dd63c580c700bfdeb4.dl.dropboxusercontent.com (uc8d9bc802dd63c580c700bfdeb4.dl.dropboxusercontent.com)... 162.125.4.15, 2620:100:6019:15::a27d:40f\n",
      "Connecting to uc8d9bc802dd63c580c700bfdeb4.dl.dropboxusercontent.com (uc8d9bc802dd63c580c700bfdeb4.dl.dropboxusercontent.com)|162.125.4.15|:443... connected.\n",
      "HTTP request sent, awaiting response... 200 OK\n",
      "Length: 804000 (785K) [text/plain]\n",
      "Saving to: ‘./data/test_sequences.txt’\n",
      "\n",
      "     0K .......... .......... .......... .......... ..........  6% 3.67M 0s\n",
      "    50K .......... .......... .......... .......... .......... 12% 4.77M 0s\n",
      "   100K .......... .......... .......... .......... .......... 19% 9.34M 0s\n",
      "   150K .......... .......... .......... .......... .......... 25% 9.17M 0s\n",
      "   200K .......... .......... .......... .......... .......... 31%  177M 0s\n",
      "   250K .......... .......... .......... .......... .......... 38%  186M 0s\n",
      "   300K .......... .......... .......... .......... .......... 44%  196M 0s\n",
      "   350K .......... .......... .......... .......... .......... 50%  165M 0s\n",
      "   400K .......... .......... .......... .......... .......... 57%  193M 0s\n",
      "   450K .......... .......... .......... .......... .......... 63%  195M 0s\n",
      "   500K .......... .......... .......... .......... .......... 70%  210M 0s\n",
      "   550K .......... .......... .......... .......... .......... 76%  189M 0s\n",
      "   600K .......... .......... .......... .......... .......... 82%  201M 0s\n",
      "   650K .......... .......... .......... .......... .......... 89%  211M 0s\n",
      "   700K .......... .......... .......... .......... .......... 95%  208M 0s\n",
      "   750K .......... .......... .......... .....                100%  167M=0.04s\n",
      "\n",
      "2023-07-26 09:34:00 (20.7 MB/s) - ‘./data/test_sequences.txt’ saved [804000/804000]\n",
      "\n",
      "--2023-07-26 09:34:00--  https://www.dropbox.com/s/8td0n60zb6bdi12/train_labels.txt\n",
      "Resolving www.dropbox.com (www.dropbox.com)... 162.125.4.18, 2620:100:6019:18::a27d:412\n",
      "Connecting to www.dropbox.com (www.dropbox.com)|162.125.4.18|:443... connected.\n",
      "HTTP request sent, awaiting response... 302 Found\n",
      "Location: /s/raw/8td0n60zb6bdi12/train_labels.txt [following]\n",
      "--2023-07-26 09:34:00--  https://www.dropbox.com/s/raw/8td0n60zb6bdi12/train_labels.txt\n",
      "Reusing existing connection to www.dropbox.com:443.\n",
      "HTTP request sent, awaiting response... 302 Found\n",
      "Location: https://uc9c2f9517b29ca4cfde4e7f4f9f.dl.dropboxusercontent.com/cd/0/inline/CAl1ED-YeL-7qld09FUsvsW7M2WlPuviUJtlDycfsCG9zKROtXvT1zc-8gVHfW0gK_Yp6mAFZ8ByowwroIQq1zMttYD7VG67BlwvN5LiMDg9_gl2oVaxFFooddoQyLHkPAw/file# [following]\n",
      "--2023-07-26 09:34:00--  https://uc9c2f9517b29ca4cfde4e7f4f9f.dl.dropboxusercontent.com/cd/0/inline/CAl1ED-YeL-7qld09FUsvsW7M2WlPuviUJtlDycfsCG9zKROtXvT1zc-8gVHfW0gK_Yp6mAFZ8ByowwroIQq1zMttYD7VG67BlwvN5LiMDg9_gl2oVaxFFooddoQyLHkPAw/file\n",
      "Resolving uc9c2f9517b29ca4cfde4e7f4f9f.dl.dropboxusercontent.com (uc9c2f9517b29ca4cfde4e7f4f9f.dl.dropboxusercontent.com)... 162.125.4.15, 2620:100:6019:15::a27d:40f\n",
      "Connecting to uc9c2f9517b29ca4cfde4e7f4f9f.dl.dropboxusercontent.com (uc9c2f9517b29ca4cfde4e7f4f9f.dl.dropboxusercontent.com)|162.125.4.15|:443... connected.\n",
      "HTTP request sent, awaiting response... 200 OK\n",
      "Length: 350000 (342K) [text/plain]\n",
      "Saving to: ‘./data/train_labels.txt’\n",
      "\n",
      "     0K .......... .......... .......... .......... .......... 14% 3.50M 0s\n",
      "    50K .......... .......... .......... .......... .......... 29% 6.00M 0s\n",
      "   100K .......... .......... .......... .......... .......... 43% 6.31M 0s\n",
      "   150K .......... .......... .......... .......... .......... 58% 9.63M 0s\n",
      "   200K .......... .......... .......... .......... .......... 73%  168M 0s\n",
      "   250K .......... .......... .......... .......... .......... 87%  195M 0s\n",
      "   300K .......... .......... .......... .......... .         100%  190M=0.04s\n",
      "\n",
      "2023-07-26 09:34:01 (9.37 MB/s) - ‘./data/train_labels.txt’ saved [350000/350000]\n",
      "\n",
      "--2023-07-26 09:34:01--  https://www.dropbox.com/s/8drv3039bg837kx/valid_labels.txt\n",
      "Resolving www.dropbox.com (www.dropbox.com)... 162.125.4.18, 2620:100:6019:18::a27d:412\n",
      "Connecting to www.dropbox.com (www.dropbox.com)|162.125.4.18|:443... connected.\n",
      "HTTP request sent, awaiting response... 302 Found\n",
      "Location: /s/raw/8drv3039bg837kx/valid_labels.txt [following]\n",
      "--2023-07-26 09:34:01--  https://www.dropbox.com/s/raw/8drv3039bg837kx/valid_labels.txt\n",
      "Reusing existing connection to www.dropbox.com:443.\n",
      "HTTP request sent, awaiting response... 302 Found\n",
      "Location: https://uc31c91ef45013f23adb95ea6f27.dl.dropboxusercontent.com/cd/0/inline/CAmxnCYhOw05667G3hwFNsH0ELXQ95g4qQCH2vb9Q8w_802Usomd71DZM0sWznO2_X7I1JFZSmQMrMaiYyq0T_bIlW38WuEgQiMfz-b3GRxEfmK9846T0A00WYddxsSG4Og/file# [following]\n",
      "--2023-07-26 09:34:01--  https://uc31c91ef45013f23adb95ea6f27.dl.dropboxusercontent.com/cd/0/inline/CAmxnCYhOw05667G3hwFNsH0ELXQ95g4qQCH2vb9Q8w_802Usomd71DZM0sWznO2_X7I1JFZSmQMrMaiYyq0T_bIlW38WuEgQiMfz-b3GRxEfmK9846T0A00WYddxsSG4Og/file\n",
      "Resolving uc31c91ef45013f23adb95ea6f27.dl.dropboxusercontent.com (uc31c91ef45013f23adb95ea6f27.dl.dropboxusercontent.com)... 162.125.4.15, 2620:100:6019:15::a27d:40f\n",
      "Connecting to uc31c91ef45013f23adb95ea6f27.dl.dropboxusercontent.com (uc31c91ef45013f23adb95ea6f27.dl.dropboxusercontent.com)|162.125.4.15|:443... connected.\n",
      "HTTP request sent, awaiting response... 200 OK\n",
      "Length: 50000 (49K) [text/plain]\n",
      "Saving to: ‘./data/valid_labels.txt’\n",
      "\n",
      "     0K .......... .......... .......... .......... ........  100% 2.72M=0.02s\n",
      "\n",
      "2023-07-26 09:34:01 (2.72 MB/s) - ‘./data/valid_labels.txt’ saved [50000/50000]\n",
      "\n",
      "--2023-07-26 09:34:01--  https://www.dropbox.com/s/f31qxggnfqjddb9/test_labels.txt\n",
      "Resolving www.dropbox.com (www.dropbox.com)... 162.125.4.18, 2620:100:6019:18::a27d:412\n",
      "Connecting to www.dropbox.com (www.dropbox.com)|162.125.4.18|:443... connected.\n",
      "HTTP request sent, awaiting response... 302 Found\n",
      "Location: /s/raw/f31qxggnfqjddb9/test_labels.txt [following]\n",
      "--2023-07-26 09:34:01--  https://www.dropbox.com/s/raw/f31qxggnfqjddb9/test_labels.txt\n",
      "Reusing existing connection to www.dropbox.com:443.\n",
      "HTTP request sent, awaiting response... 302 Found\n",
      "Location: https://uc9dda8577fbb6e324da7a469dbd.dl.dropboxusercontent.com/cd/0/inline/CAmBJvs60Sy7c08Vg75xWMU0RZUxf84ZKfizIEP3-PxPoNR6PLxiYrlXLVBJkWiE7wjE2T0XzX0tQUJTncczber33AcsT4UWGRuTy55UKwOqHOUrUOQeadNUh4lETGFpaMU/file# [following]\n",
      "--2023-07-26 09:34:02--  https://uc9dda8577fbb6e324da7a469dbd.dl.dropboxusercontent.com/cd/0/inline/CAmBJvs60Sy7c08Vg75xWMU0RZUxf84ZKfizIEP3-PxPoNR6PLxiYrlXLVBJkWiE7wjE2T0XzX0tQUJTncczber33AcsT4UWGRuTy55UKwOqHOUrUOQeadNUh4lETGFpaMU/file\n",
      "Resolving uc9dda8577fbb6e324da7a469dbd.dl.dropboxusercontent.com (uc9dda8577fbb6e324da7a469dbd.dl.dropboxusercontent.com)... 162.125.4.15, 2620:100:6019:15::a27d:40f\n",
      "Connecting to uc9dda8577fbb6e324da7a469dbd.dl.dropboxusercontent.com (uc9dda8577fbb6e324da7a469dbd.dl.dropboxusercontent.com)|162.125.4.15|:443... connected.\n",
      "HTTP request sent, awaiting response... 200 OK\n",
      "Length: 100000 (98K) [text/plain]\n",
      "Saving to: ‘./data/test_labels.txt’\n",
      "\n",
      "     0K .......... .......... .......... .......... .......... 51% 3.46M 0s\n",
      "    50K .......... .......... .......... .......... .......   100% 5.34M=0.02s\n",
      "\n",
      "2023-07-26 09:34:02 (4.17 MB/s) - ‘./data/test_labels.txt’ saved [100000/100000]\n",
      "\n"
     ]
    }
   ],
   "source": [
    "# download and load the data\n",
    "from src.utils.synthetic_seqdata import download_data, load_data\n",
    "savedir = \"./data\"\n",
    "download_data(savedir)\n",
    "Xs, Ys = load_data(savedir=savedir)"
   ]
  },
  {
   "cell_type": "code",
   "execution_count": 8,
   "metadata": {
    "colab": {
     "base_uri": "https://localhost:8080/"
    },
    "id": "ZYTbNbkshWc8",
    "outputId": "20888f11-ad9b-4336-b372-4e5db11586bb",
    "tags": []
   },
   "outputs": [
    {
     "data": {
      "text/plain": [
       "(14000,\n",
       " {'train': array([1., 1., 0., ..., 1., 0., 1.], dtype=float32),\n",
       "  'valid': array([0., 1., 1., ..., 0., 0., 1.], dtype=float32),\n",
       "  'test': array([0., 1., 0., ..., 1., 1., 1.], dtype=float32)},\n",
       " 14000,\n",
       " 2000,\n",
       " 4000)"
      ]
     },
     "execution_count": 8,
     "metadata": {},
     "output_type": "execute_result"
    }
   ],
   "source": [
    "len(Xs['train']), Ys, len(Ys['train']), len(Ys['valid']), len(Ys['test'])"
   ]
  },
  {
   "cell_type": "code",
   "execution_count": 10,
   "metadata": {
    "tags": []
   },
   "outputs": [],
   "source": [
    "config = {\n",
    "    \"batch_size\": 32,\n",
    "    \"learning_rate\": 0.001,\n",
    "    \"architecture\": \"deepbind\",\n",
    "    \"dataset\": \"synthetic data\",\n",
    "    \"epochs\": 35,\n",
    "    \"patience\": 3,\n",
    "    }"
   ]
  },
  {
   "cell_type": "code",
   "execution_count": 11,
   "metadata": {
    "id": "8IYgO7oOiKjV",
    "tags": []
   },
   "outputs": [],
   "source": [
    "# create datasets and data loaders\n",
    "alphabet = \"ACGT\"\n",
    "train_dataset = DNASequenceDataset(Xs[\"train\"], Ys[\"train\"], alphabet=alphabet)\n",
    "valid_dataset = DNASequenceDataset(Xs[\"valid\"], Ys[\"valid\"], alphabet=alphabet)\n",
    "test_dataset = DNASequenceDataset(Xs[\"test\"], Ys[\"test\"], alphabet=alphabet)\n",
    "\n",
    "loaders = {\n",
    "    'train': DataLoader(train_dataset, batch_size=config['batch_size'], shuffle=True),\n",
    "    'valid': DataLoader(valid_dataset, batch_size=config['batch_size']),\n",
    "    'test': DataLoader(test_dataset, batch_size=config['batch_size']),\n",
    "}"
   ]
  },
  {
   "cell_type": "code",
   "execution_count": null,
   "metadata": {
    "colab": {
     "base_uri": "https://localhost:8080/"
    },
    "id": "8wc3cL3ljOjF",
    "outputId": "4e0d7e9c-0ec5-4be5-b689-9b929b852ef3",
    "tags": []
   },
   "outputs": [],
   "source": [
    "len(loaders['train']), len(loaders['valid']), len(loaders['test'])"
   ]
  },
  {
   "cell_type": "code",
   "execution_count": 12,
   "metadata": {
    "tags": []
   },
   "outputs": [],
   "source": [
    "# import wandb\n",
    "# # start a new wandb run to track this script\n",
    "# wandb.init(\n",
    "#     # set the wandb project where this run will be logged\n",
    "#     project=\"deepbind_cnn_synthetic1\",\n",
    "    \n",
    "#     # track hyperparameters and run metadata\n",
    "#     config=config\n",
    "# )\n"
   ]
  },
  {
   "cell_type": "code",
   "execution_count": null,
   "metadata": {
    "id": "nKoxC8u_lk5Q",
    "tags": []
   },
   "outputs": [],
   "source": [
    "# Prepare data and model\n",
    "input_size = 4  # One-hot encoding of DNA bases A, C, G, T\n",
    "output_size = 1  # Single output for regression, modify for multi-class classification\n",
    "learning_rate = 0.001\n",
    "num_epochs = 35\n",
    "patience = 3  # Number of epochs to wait before early stopping\n",
    "current_patience = 0\n",
    "\n",
    "device = torch.device(\"cuda\" if torch.cuda.is_available() else \"cpu\")\n",
    "model = BasicCNN(input_size, output_size).to(device)\n",
    "criterion = nn.MSELoss()\n",
    "optimizer = optim.Adam(model.parameters(), lr=learning_rate)"
   ]
  },
  {
   "cell_type": "code",
   "execution_count": null,
   "metadata": {
    "colab": {
     "base_uri": "https://localhost:8080/"
    },
    "id": "ZYbIyDZ3l9oU",
    "outputId": "8b48a759-67c4-4f5a-b8ed-21a2b16f97c5",
    "tags": []
   },
   "outputs": [],
   "source": [
    "print(model)"
   ]
  },
  {
   "cell_type": "code",
   "execution_count": null,
   "metadata": {},
   "outputs": [],
   "source": [
    "trainer = Trainer(config=config, \n",
    "                  device=device, \n",
    "                  model=model, \n",
    "                  criterion=criterion, \n",
    "                  optimizer=optimizer, \n",
    "                  loaders=loaders,\n",
    "                  wandb=wandb)\n",
    "\n",
    "trainer.train()"
   ]
  },
  {
   "cell_type": "code",
   "execution_count": null,
   "metadata": {
    "id": "z_DR-rVKkz27",
    "tags": []
   },
   "outputs": [],
   "source": [
    "# Training function\n",
    "def train(model, loader, criterion, optimizer):\n",
    "    model.train()\n",
    "    running_loss = 0.0\n",
    "    for inputs, labels in loader:\n",
    "        inputs, labels = inputs.to(device), labels.to(device)\n",
    "        optimizer.zero_grad()\n",
    "        outputs = model(inputs)\n",
    "        loss = criterion(outputs.squeeze(), labels)\n",
    "        loss.backward()\n",
    "        optimizer.step()\n",
    "        running_loss += loss.item() * inputs.size(0)\n",
    "    return running_loss / len(loader.dataset)\n",
    "\n",
    "# Validation function\n",
    "def evaluate(model, loader, criterion):\n",
    "    model.eval()\n",
    "    running_loss = 0.0\n",
    "    with torch.no_grad():\n",
    "        for inputs, labels in loader:\n",
    "            inputs, labels = inputs.to(device), labels.to(device)\n",
    "            outputs = model(inputs)\n",
    "            loss = criterion(outputs.squeeze(), labels)\n",
    "            running_loss += loss.item() * inputs.size(0)\n",
    "    return running_loss / len(loader.dataset)"
   ]
  },
  {
   "cell_type": "code",
   "execution_count": null,
   "metadata": {
    "colab": {
     "base_uri": "https://localhost:8080/"
    },
    "id": "cSEx4Sc8lnT1",
    "outputId": "d75938be-9a9b-4b96-ba0d-2991a19d0c8a",
    "tags": []
   },
   "outputs": [],
   "source": [
    "# Training loop with validation\n",
    "train_losses = []\n",
    "valid_losses = []\n",
    "# Training loop\n",
    "for epoch in range(num_epochs):\n",
    "    best_valid_loss = float('inf')\n",
    "    train_loss = train(model, loaders['train'], criterion, optimizer)\n",
    "    valid_loss = evaluate(model, loaders['valid'], criterion)\n",
    "    train_losses.append(train_loss)\n",
    "    valid_losses.append(valid_loss)\n",
    "    wandb.log({\"train_loss\": train_loss, \"valid_loss\": valid_loss})\n",
    "    print(f\"Epoch [{epoch+1}/{num_epochs}] - Train Loss: {train_loss:.4f}, Valid Loss: {valid_loss:.4f}\")\n",
    "\n",
    "    # Early stopping\n",
    "    if valid_loss < best_valid_loss:\n",
    "        best_valid_loss = valid_loss\n",
    "        current_patience = 0\n",
    "        # Save the best model if you want\n",
    "        torch.save(model.state_dict(), \"best_model.pt\")\n",
    "    else:\n",
    "        current_patience += 1\n",
    "        if current_patience >= patience:\n",
    "            print(\"Early stopping! Validation loss hasn't improved in the last\", patience, \"epochs.\")\n",
    "            break\n",
    "\n",
    "# Test the model on the test set\n",
    "test_loss = evaluate(model, loaders['test'], criterion)\n",
    "print(f\"Test Loss: {test_loss:.4f}\")\n"
   ]
  },
  {
   "cell_type": "code",
   "execution_count": null,
   "metadata": {
    "colab": {
     "base_uri": "https://localhost:8080/",
     "height": 564
    },
    "id": "RAhkTuw2wZ4K",
    "outputId": "da275ed3-117f-4188-bcbe-748823d76f10",
    "tags": []
   },
   "outputs": [],
   "source": [
    "# Calculate AUROC for test predictions\n",
    "model.eval()\n",
    "test_scores = []\n",
    "test_labels = []\n",
    "with torch.no_grad():\n",
    "    for inputs, labels in loaders['test']:\n",
    "        inputs, labels = inputs.to(device), labels.to(device)\n",
    "        outputs = model(inputs)\n",
    "        test_scores.extend(outputs.cpu().squeeze().tolist())\n",
    "        test_labels.extend(labels.cpu().tolist())\n",
    "\n",
    "# Plot training/validation loss\n",
    "plt.figure(figsize=(8, 6))\n",
    "plt.plot(range(1, len(train_losses)+1), train_losses, label='Training Loss')\n",
    "plt.plot(range(1, len(valid_losses)+1), valid_losses, label='Validation Loss')\n",
    "plt.xlabel('Epochs')\n",
    "plt.ylabel('Loss')\n",
    "plt.title('Training and Validation Loss')\n",
    "plt.legend()\n",
    "plt.show()"
   ]
  },
  {
   "cell_type": "code",
   "execution_count": null,
   "metadata": {
    "colab": {
     "base_uri": "https://localhost:8080/",
     "height": 582
    },
    "id": "uyS9tTY4x1va",
    "outputId": "4c1b52ac-587f-444d-c79a-84262879c402",
    "tags": []
   },
   "outputs": [],
   "source": [
    "test_auroc = roc_auc_score(test_labels, test_scores)\n",
    "print(f\"Test AUROC: {test_auroc:.4f}\")\n",
    "\n",
    "# Plot ROC curve\n",
    "fpr, tpr, thresholds = roc_curve(test_labels, test_scores)\n",
    "plt.figure(figsize=(8, 6))\n",
    "plt.plot(fpr, tpr, color='b')\n",
    "plt.plot([0, 1], [0, 1], color='gray', linestyle='--')\n",
    "plt.xlabel('False Positive Rate')\n",
    "plt.ylabel('True Positive Rate')\n",
    "plt.title('ROC Curve')\n",
    "plt.show()"
   ]
  },
  {
   "cell_type": "code",
   "execution_count": null,
   "metadata": {
    "id": "URKZHtMfyTDC"
   },
   "outputs": [],
   "source": []
  }
 ],
 "metadata": {
  "colab": {
   "provenance": []
  },
  "kernelspec": {
   "display_name": "Python 3 (ipykernel)",
   "language": "python",
   "name": "python3"
  },
  "language_info": {
   "codemirror_mode": {
    "name": "ipython",
    "version": 3
   },
   "file_extension": ".py",
   "mimetype": "text/x-python",
   "name": "python",
   "nbconvert_exporter": "python",
   "pygments_lexer": "ipython3",
   "version": "3.9.12"
  }
 },
 "nbformat": 4,
 "nbformat_minor": 4
}
