{
 "cells": [
  {
   "cell_type": "code",
   "execution_count": 7,
   "metadata": {},
   "outputs": [],
   "source": [
    "import sys\n",
    "sys.path.insert(0, '..')"
   ]
  },
  {
   "cell_type": "code",
   "execution_count": 8,
   "metadata": {
    "id": "UHpUWNi1kIBt",
    "tags": []
   },
   "outputs": [],
   "source": [
    "import os\n",
    "import subprocess\n",
    "import numpy as np\n",
    "import os\n",
    "import subprocess\n",
    "import numpy as np\n",
    "import torch\n",
    "import torch.nn as nn\n",
    "from torch.utils.data import DataLoader\n",
    "import torch.optim as optim\n",
    "import matplotlib.pyplot as plt\n",
    "from sklearn.metrics import roc_auc_score, roc_curve\n",
    "\n",
    "from src.utils.synthetic_seqdata import *\n",
    "from src.utils.datasets import DNASequenceDataset\n",
    "from src.models.deepbind_cnn import BasicCNN"
   ]
  },
  {
   "cell_type": "code",
   "execution_count": 9,
   "metadata": {
    "id": "jdLEtanChQDa",
    "tags": []
   },
   "outputs": [],
   "source": [
    "# download and load the data\n",
    "savedir = \"./data\"\n",
    "# download_data(savedir=savedir)\n",
    "Xs, Ys = load_data(savedir=savedir)"
   ]
  },
  {
   "cell_type": "code",
   "execution_count": 10,
   "metadata": {
    "colab": {
     "base_uri": "https://localhost:8080/"
    },
    "id": "ZYTbNbkshWc8",
    "outputId": "20888f11-ad9b-4336-b372-4e5db11586bb",
    "tags": []
   },
   "outputs": [
    {
     "data": {
      "text/plain": [
       "(14000,\n",
       " {'train': array([1., 1., 0., ..., 1., 0., 1.], dtype=float32),\n",
       "  'valid': array([0., 1., 1., ..., 0., 0., 1.], dtype=float32),\n",
       "  'test': array([0., 1., 0., ..., 1., 1., 1.], dtype=float32)},\n",
       " 14000,\n",
       " 2000,\n",
       " 4000)"
      ]
     },
     "execution_count": 10,
     "metadata": {},
     "output_type": "execute_result"
    }
   ],
   "source": [
    "len(Xs['train']), Ys, len(Ys['train']), len(Ys['valid']), len(Ys['test'])"
   ]
  },
  {
   "cell_type": "code",
   "execution_count": 11,
   "metadata": {
    "id": "8IYgO7oOiKjV",
    "tags": []
   },
   "outputs": [],
   "source": [
    "# create datasets and data loaders\n",
    "alphabet = \"ACGT\"\n",
    "train_dataset = DNASequenceDataset(Xs[\"train\"], Ys[\"train\"], alphabet=alphabet)\n",
    "valid_dataset = DNASequenceDataset(Xs[\"valid\"], Ys[\"valid\"], alphabet=alphabet)\n",
    "test_dataset = DNASequenceDataset(Xs[\"test\"], Ys[\"test\"], alphabet=alphabet)\n",
    "\n",
    "batch_size = 32\n",
    "train_loader = DataLoader(train_dataset, batch_size=batch_size, shuffle=True)\n",
    "valid_loader = DataLoader(valid_dataset, batch_size=batch_size)\n",
    "test_loader = DataLoader(test_dataset, batch_size=batch_size)"
   ]
  },
  {
   "cell_type": "code",
   "execution_count": 12,
   "metadata": {
    "colab": {
     "base_uri": "https://localhost:8080/"
    },
    "id": "8wc3cL3ljOjF",
    "outputId": "4e0d7e9c-0ec5-4be5-b689-9b929b852ef3",
    "tags": []
   },
   "outputs": [
    {
     "data": {
      "text/plain": [
       "(438, 63, 125)"
      ]
     },
     "execution_count": 12,
     "metadata": {},
     "output_type": "execute_result"
    }
   ],
   "source": [
    "len(train_loader), len(valid_loader), len(test_loader)"
   ]
  },
  {
   "cell_type": "code",
   "execution_count": 3,
   "metadata": {},
   "outputs": [
    {
     "data": {
      "text/html": [
       "Finishing last run (ID:wi9b9oqv) before initializing another..."
      ],
      "text/plain": [
       "<IPython.core.display.HTML object>"
      ]
     },
     "metadata": {},
     "output_type": "display_data"
    },
    {
     "data": {
      "text/html": [
       "Waiting for W&B process to finish... <strong style=\"color:green\">(success).</strong>"
      ],
      "text/plain": [
       "<IPython.core.display.HTML object>"
      ]
     },
     "metadata": {},
     "output_type": "display_data"
    },
    {
     "data": {
      "application/vnd.jupyter.widget-view+json": {
       "model_id": "aec43ee0e8644c40b2cccb4e5327d819",
       "version_major": 2,
       "version_minor": 0
      },
      "text/plain": [
       "VBox(children=(Label(value='0.006 MB of 0.006 MB uploaded (0.000 MB deduped)\\r'), FloatProgress(value=1.0, max…"
      ]
     },
     "metadata": {},
     "output_type": "display_data"
    },
    {
     "data": {
      "text/html": [
       " View run <strong style=\"color:#cdcd00\">restful-dragon-1</strong> at: <a href='https://wandb.ai/harshitandkumar/my-awesome-project/runs/wi9b9oqv' target=\"_blank\">https://wandb.ai/harshitandkumar/my-awesome-project/runs/wi9b9oqv</a><br/>Synced 6 W&B file(s), 0 media file(s), 0 artifact file(s) and 0 other file(s)"
      ],
      "text/plain": [
       "<IPython.core.display.HTML object>"
      ]
     },
     "metadata": {},
     "output_type": "display_data"
    },
    {
     "data": {
      "text/html": [
       "Find logs at: <code>./wandb/run-20230724_174312-wi9b9oqv/logs</code>"
      ],
      "text/plain": [
       "<IPython.core.display.HTML object>"
      ]
     },
     "metadata": {},
     "output_type": "display_data"
    },
    {
     "data": {
      "text/html": [
       "Successfully finished last run (ID:wi9b9oqv). Initializing new run:<br/>"
      ],
      "text/plain": [
       "<IPython.core.display.HTML object>"
      ]
     },
     "metadata": {},
     "output_type": "display_data"
    },
    {
     "data": {
      "application/vnd.jupyter.widget-view+json": {
       "model_id": "c53566f0a22940b78ff29234c5a77aa8",
       "version_major": 2,
       "version_minor": 0
      },
      "text/plain": [
       "VBox(children=(Label(value='Waiting for wandb.init()...\\r'), FloatProgress(value=0.01666949808325929, max=1.0)…"
      ]
     },
     "metadata": {},
     "output_type": "display_data"
    },
    {
     "data": {
      "text/html": [
       "Tracking run with wandb version 0.15.5"
      ],
      "text/plain": [
       "<IPython.core.display.HTML object>"
      ]
     },
     "metadata": {},
     "output_type": "display_data"
    },
    {
     "data": {
      "text/html": [
       "Run data is saved locally in <code>/home/kumarh/fall_co-op_2023/experiments/wandb/run-20230724_174454-qmfk8brk</code>"
      ],
      "text/plain": [
       "<IPython.core.display.HTML object>"
      ]
     },
     "metadata": {},
     "output_type": "display_data"
    },
    {
     "data": {
      "text/html": [
       "Syncing run <strong><a href='https://wandb.ai/harshitandkumar/deepbind_cnn_synthetic1/runs/qmfk8brk' target=\"_blank\">hearty-paper-1</a></strong> to <a href='https://wandb.ai/harshitandkumar/deepbind_cnn_synthetic1' target=\"_blank\">Weights & Biases</a> (<a href='https://wandb.me/run' target=\"_blank\">docs</a>)<br/>"
      ],
      "text/plain": [
       "<IPython.core.display.HTML object>"
      ]
     },
     "metadata": {},
     "output_type": "display_data"
    },
    {
     "data": {
      "text/html": [
       " View project at <a href='https://wandb.ai/harshitandkumar/deepbind_cnn_synthetic1' target=\"_blank\">https://wandb.ai/harshitandkumar/deepbind_cnn_synthetic1</a>"
      ],
      "text/plain": [
       "<IPython.core.display.HTML object>"
      ]
     },
     "metadata": {},
     "output_type": "display_data"
    },
    {
     "data": {
      "text/html": [
       " View run at <a href='https://wandb.ai/harshitandkumar/deepbind_cnn_synthetic1/runs/qmfk8brk' target=\"_blank\">https://wandb.ai/harshitandkumar/deepbind_cnn_synthetic1/runs/qmfk8brk</a>"
      ],
      "text/plain": [
       "<IPython.core.display.HTML object>"
      ]
     },
     "metadata": {},
     "output_type": "display_data"
    },
    {
     "data": {
      "text/html": [
       "<button onClick=\"this.nextSibling.style.display='block';this.style.display='none';\">Display W&B run</button><iframe src='https://wandb.ai/harshitandkumar/deepbind_cnn_synthetic1/runs/qmfk8brk?jupyter=true' style='border:none;width:100%;height:420px;display:none;'></iframe>"
      ],
      "text/plain": [
       "<wandb.sdk.wandb_run.Run at 0x2aaaed402910>"
      ]
     },
     "execution_count": 3,
     "metadata": {},
     "output_type": "execute_result"
    }
   ],
   "source": [
    "import wandb\n",
    "# start a new wandb run to track this script\n",
    "wandb.init(\n",
    "    # set the wandb project where this run will be logged\n",
    "    project=\"deepbind_cnn_synthetic1\",\n",
    "    \n",
    "    # track hyperparameters and run metadata\n",
    "    config={\n",
    "    \"learning_rate\": 0.001,\n",
    "    \"architecture\": \"deepbind\",\n",
    "    \"dataset\": \"synthetic data\",\n",
    "    \"epochs\": 35,\n",
    "    }\n",
    ")\n"
   ]
  },
  {
   "cell_type": "code",
   "execution_count": 13,
   "metadata": {
    "id": "nKoxC8u_lk5Q",
    "tags": []
   },
   "outputs": [],
   "source": [
    "# Prepare data and model\n",
    "input_size = 4  # One-hot encoding of DNA bases A, C, G, T\n",
    "output_size = 1  # Single output for regression, modify for multi-class classification\n",
    "learning_rate = 0.001\n",
    "num_epochs = 35\n",
    "patience = 3  # Number of epochs to wait before early stopping\n",
    "current_patience = 0\n",
    "\n",
    "device = torch.device(\"cuda\" if torch.cuda.is_available() else \"cpu\")\n",
    "model = BasicCNN(input_size, output_size).to(device)\n",
    "criterion = nn.MSELoss()\n",
    "optimizer = optim.Adam(model.parameters(), lr=learning_rate)"
   ]
  },
  {
   "cell_type": "code",
   "execution_count": 14,
   "metadata": {
    "colab": {
     "base_uri": "https://localhost:8080/"
    },
    "id": "ZYbIyDZ3l9oU",
    "outputId": "8b48a759-67c4-4f5a-b8ed-21a2b16f97c5",
    "tags": []
   },
   "outputs": [
    {
     "name": "stdout",
     "output_type": "stream",
     "text": [
      "BasicCNN(\n",
      "  (conv1): Conv1d(4, 16, kernel_size=(3,), stride=(1,))\n",
      "  (relu): ReLU()\n",
      "  (pool): MaxPool1d(kernel_size=2, stride=2, padding=0, dilation=1, ceil_mode=False)\n",
      "  (fc): Linear(in_features=16, out_features=1, bias=True)\n",
      ")\n"
     ]
    }
   ],
   "source": [
    "print(model)"
   ]
  },
  {
   "cell_type": "code",
   "execution_count": 16,
   "metadata": {
    "id": "z_DR-rVKkz27",
    "tags": []
   },
   "outputs": [],
   "source": [
    "# Training function\n",
    "def train(model, loader, criterion, optimizer):\n",
    "    model.train()\n",
    "    running_loss = 0.0\n",
    "    for inputs, labels in loader:\n",
    "        inputs, labels = inputs.to(device), labels.to(device)\n",
    "        optimizer.zero_grad()\n",
    "        outputs = model(inputs)\n",
    "        loss = criterion(outputs.squeeze(), labels)\n",
    "        loss.backward()\n",
    "        optimizer.step()\n",
    "        running_loss += loss.item() * inputs.size(0)\n",
    "    return running_loss / len(loader.dataset)\n",
    "\n",
    "# Validation function\n",
    "def evaluate(model, loader, criterion):\n",
    "    model.eval()\n",
    "    running_loss = 0.0\n",
    "    with torch.no_grad():\n",
    "        for inputs, labels in loader:\n",
    "            inputs, labels = inputs.to(device), labels.to(device)\n",
    "            outputs = model(inputs)\n",
    "            loss = criterion(outputs.squeeze(), labels)\n",
    "            running_loss += loss.item() * inputs.size(0)\n",
    "    return running_loss / len(loader.dataset)"
   ]
  },
  {
   "cell_type": "code",
   "execution_count": 17,
   "metadata": {
    "colab": {
     "base_uri": "https://localhost:8080/"
    },
    "id": "cSEx4Sc8lnT1",
    "outputId": "d75938be-9a9b-4b96-ba0d-2991a19d0c8a",
    "tags": []
   },
   "outputs": [
    {
     "name": "stdout",
     "output_type": "stream",
     "text": [
      "Epoch [1/35] - Train Loss: 0.2506, Valid Loss: 0.2321\n",
      "Epoch [2/35] - Train Loss: 0.2235, Valid Loss: 0.2128\n",
      "Epoch [3/35] - Train Loss: 0.2078, Valid Loss: 0.2000\n",
      "Epoch [4/35] - Train Loss: 0.2001, Valid Loss: 0.1955\n",
      "Epoch [5/35] - Train Loss: 0.1975, Valid Loss: 0.1947\n",
      "Epoch [6/35] - Train Loss: 0.1959, Valid Loss: 0.1923\n",
      "Epoch [7/35] - Train Loss: 0.1956, Valid Loss: 0.1913\n",
      "Epoch [8/35] - Train Loss: 0.1940, Valid Loss: 0.1910\n",
      "Epoch [9/35] - Train Loss: 0.1939, Valid Loss: 0.1913\n",
      "Epoch [10/35] - Train Loss: 0.1930, Valid Loss: 0.1895\n",
      "Epoch [11/35] - Train Loss: 0.1926, Valid Loss: 0.1914\n",
      "Epoch [12/35] - Train Loss: 0.1916, Valid Loss: 0.1885\n",
      "Epoch [13/35] - Train Loss: 0.1913, Valid Loss: 0.1896\n",
      "Epoch [14/35] - Train Loss: 0.1912, Valid Loss: 0.1879\n",
      "Epoch [15/35] - Train Loss: 0.1904, Valid Loss: 0.1894\n",
      "Epoch [16/35] - Train Loss: 0.1900, Valid Loss: 0.1869\n",
      "Epoch [17/35] - Train Loss: 0.1893, Valid Loss: 0.1883\n",
      "Epoch [18/35] - Train Loss: 0.1892, Valid Loss: 0.1864\n",
      "Epoch [19/35] - Train Loss: 0.1881, Valid Loss: 0.1856\n",
      "Epoch [20/35] - Train Loss: 0.1877, Valid Loss: 0.1860\n",
      "Epoch [21/35] - Train Loss: 0.1877, Valid Loss: 0.1883\n",
      "Epoch [22/35] - Train Loss: 0.1870, Valid Loss: 0.1843\n",
      "Epoch [23/35] - Train Loss: 0.1866, Valid Loss: 0.1904\n",
      "Epoch [24/35] - Train Loss: 0.1857, Valid Loss: 0.1862\n",
      "Epoch [25/35] - Train Loss: 0.1853, Valid Loss: 0.1831\n",
      "Epoch [26/35] - Train Loss: 0.1852, Valid Loss: 0.1861\n",
      "Epoch [27/35] - Train Loss: 0.1845, Valid Loss: 0.1831\n",
      "Epoch [28/35] - Train Loss: 0.1842, Valid Loss: 0.1819\n",
      "Epoch [29/35] - Train Loss: 0.1834, Valid Loss: 0.1814\n",
      "Epoch [30/35] - Train Loss: 0.1836, Valid Loss: 0.1843\n",
      "Epoch [31/35] - Train Loss: 0.1830, Valid Loss: 0.1825\n",
      "Epoch [32/35] - Train Loss: 0.1826, Valid Loss: 0.1803\n",
      "Epoch [33/35] - Train Loss: 0.1822, Valid Loss: 0.1827\n",
      "Epoch [34/35] - Train Loss: 0.1815, Valid Loss: 0.1799\n",
      "Epoch [35/35] - Train Loss: 0.1817, Valid Loss: 0.1824\n",
      "Test Loss: 0.1831\n"
     ]
    }
   ],
   "source": [
    "# Training loop with validation\n",
    "train_losses = []\n",
    "valid_losses = []\n",
    "# Training loop\n",
    "for epoch in range(num_epochs):\n",
    "    best_valid_loss = float('inf')\n",
    "    train_loss = train(model, train_loader, criterion, optimizer)\n",
    "    valid_loss = evaluate(model, valid_loader, criterion)\n",
    "    train_losses.append(train_loss)\n",
    "    valid_losses.append(valid_loss)\n",
    "    wandb.log({\"train_loss\": train_loss, \"valid_loss\": valid_loss})\n",
    "    print(f\"Epoch [{epoch+1}/{num_epochs}] - Train Loss: {train_loss:.4f}, Valid Loss: {valid_loss:.4f}\")\n",
    "\n",
    "    # Early stopping\n",
    "    if valid_loss < best_valid_loss:\n",
    "        best_valid_loss = valid_loss\n",
    "        current_patience = 0\n",
    "        # Save the best model if you want\n",
    "        torch.save(model.state_dict(), \"best_model.pt\")\n",
    "    else:\n",
    "        current_patience += 1\n",
    "        if current_patience >= patience:\n",
    "            print(\"Early stopping! Validation loss hasn't improved in the last\", patience, \"epochs.\")\n",
    "            break\n",
    "\n",
    "# Test the model on the test set\n",
    "test_loss = evaluate(model, test_loader, criterion)\n",
    "print(f\"Test Loss: {test_loss:.4f}\")\n"
   ]
  },
  {
   "cell_type": "code",
   "execution_count": 18,
   "metadata": {
    "colab": {
     "base_uri": "https://localhost:8080/",
     "height": 564
    },
    "id": "RAhkTuw2wZ4K",
    "outputId": "da275ed3-117f-4188-bcbe-748823d76f10",
    "tags": []
   },
   "outputs": [
    {
     "data": {
      "image/png": "[encoded data removed]",
      "text/plain": [
       "<Figure size 800x600 with 1 Axes>"
      ]
     },
     "metadata": {},
     "output_type": "display_data"
    }
   ],
   "source": [
    "# Calculate AUROC for test predictions\n",
    "model.eval()\n",
    "test_scores = []\n",
    "test_labels = []\n",
    "with torch.no_grad():\n",
    "    for inputs, labels in test_loader:\n",
    "        inputs, labels = inputs.to(device), labels.to(device)\n",
    "        outputs = model(inputs)\n",
    "        test_scores.extend(outputs.cpu().squeeze().tolist())\n",
    "        test_labels.extend(labels.cpu().tolist())\n",
    "\n",
    "# Plot training/validation loss\n",
    "plt.figure(figsize=(8, 6))\n",
    "plt.plot(range(1, len(train_losses)+1), train_losses, label='Training Loss')\n",
    "plt.plot(range(1, len(valid_losses)+1), valid_losses, label='Validation Loss')\n",
    "plt.xlabel('Epochs')\n",
    "plt.ylabel('Loss')\n",
    "plt.title('Training and Validation Loss')\n",
    "plt.legend()\n",
    "plt.show()"
   ]
  },
  {
   "cell_type": "code",
   "execution_count": 19,
   "metadata": {
    "colab": {
     "base_uri": "https://localhost:8080/",
     "height": 582
    },
    "id": "uyS9tTY4x1va",
    "outputId": "4c1b52ac-587f-444d-c79a-84262879c402",
    "tags": []
   },
   "outputs": [
    {
     "name": "stdout",
     "output_type": "stream",
     "text": [
      "Test AUROC: 0.8096\n"
     ]
    },
    {
     "data": {
      "image/png": "[encoded data removed]",
      "text/plain": [
       "<Figure size 800x600 with 1 Axes>"
      ]
     },
     "metadata": {},
     "output_type": "display_data"
    }
   ],
   "source": [
    "test_auroc = roc_auc_score(test_labels, test_scores)\n",
    "print(f\"Test AUROC: {test_auroc:.4f}\")\n",
    "\n",
    "# Plot ROC curve\n",
    "fpr, tpr, thresholds = roc_curve(test_labels, test_scores)\n",
    "plt.figure(figsize=(8, 6))\n",
    "plt.plot(fpr, tpr, color='b')\n",
    "plt.plot([0, 1], [0, 1], color='gray', linestyle='--')\n",
    "plt.xlabel('False Positive Rate')\n",
    "plt.ylabel('True Positive Rate')\n",
    "plt.title('ROC Curve')\n",
    "plt.show()"
   ]
  },
  {
   "cell_type": "code",
   "execution_count": null,
   "metadata": {
    "id": "URKZHtMfyTDC"
   },
   "outputs": [],
   "source": []
  }
 ],
 "metadata": {
  "colab": {
   "provenance": []
  },
  "kernelspec": {
   "display_name": "Python 3 (ipykernel)",
   "language": "python",
   "name": "python3"
  },
  "language_info": {
   "codemirror_mode": {
    "name": "ipython",
    "version": 3
   },
   "file_extension": ".py",
   "mimetype": "text/x-python",
   "name": "python",
   "nbconvert_exporter": "python",
   "pygments_lexer": "ipython3",
   "version": "3.11.3"
  }
 },
 "nbformat": 4,
 "nbformat_minor": 4
}
